{
 "cells": [
  {
   "cell_type": "markdown",
   "id": "9ba36983-999a-45da-954f-a137163e71d3",
   "metadata": {},
   "source": [
    "# EDA on Bob's Bookstore\n",
    "\n",
    "Jessica Felts\n",
    "\n",
    "### Overview & About the Data\n",
    "Bob's Bookstore is a store that deals mostly with books that have animal themes. Bob, the owner, has hired an analyst to perform an analysis on the books that he sells in his store. However, Bob doesn't keep any CSV or Excel files on his computer, but simply adds and removes books from his webpage as needed. Therefore, web scraping will need to be performed, followed by the data analysis.\n",
    "\n",
    "### Analysis\n",
    "The following questions will be answered through this EDA:\n",
    "1. Which author has the most books listed at Bob's Bookstore?\n",
    "2. Which is the most popular topic among books at Bob's Bookstore?\n",
    "3. Which topic of books is the most expensive, on average?\n",
    "4. Which topic of books has the most pages, on average?\n",
    "\n",
    "The questions delineated below will in turn answer the questions above, and are a series of steps through the analysis. A final analysis will be given at the end to summarize the findings."
   ]
  },
  {
   "cell_type": "code",
   "execution_count": 1,
   "id": "0ce0dd4b-32b1-4327-9c63-dffbda6e1e51",
   "metadata": {},
   "outputs": [],
   "source": [
    "# Here I am importing the libraries that will be necessary to scrape the website for data, as well as to analyze the data.\n",
    "\n",
    "import pandas as pd\n",
    "import requests\n",
    "from bs4 import BeautifulSoup"
   ]
  },
  {
   "cell_type": "code",
   "execution_count": 2,
   "id": "471fec0d-a6ff-477d-a9b8-b33ea7c1c34e",
   "metadata": {},
   "outputs": [],
   "source": [
    "response = requests.get('https://btech-data-analytics.github.io/bridgerland-technical-college/bookstore.html').text"
   ]
  },
  {
   "cell_type": "code",
   "execution_count": 3,
   "id": "21632bfd-f89d-4a11-9738-d7b2471a7949",
   "metadata": {},
   "outputs": [],
   "source": [
    "soup = BeautifulSoup(response, 'html.parser')"
   ]
  },
  {
   "cell_type": "code",
   "execution_count": 9,
   "id": "7c7377e6-901f-4789-809d-c12cb47381f4",
   "metadata": {},
   "outputs": [
    {
     "data": {
      "text/plain": [
       "<tr class=\"book\">\n",
       "<td>978-1234567890</td>\n",
       "<td>Whiskers of Wisdom: Tales from Feline Philosophers</td>\n",
       "<td>Penelope Wainwright</td>\n",
       "<td>English</td>\n",
       "<td>256</td>\n",
       "<td>Cats</td>\n",
       "<td>$19.99</td>\n",
       "<td><button>Buy now</button></td>\n",
       "</tr>"
      ]
     },
     "execution_count": 9,
     "metadata": {},
     "output_type": "execute_result"
    }
   ],
   "source": [
    "# In this code, I am looking at the first \"set\" of data to determine what information is in the table, \n",
    "    # and how I want to therefore save it in a new Pandas dataframe.\n",
    "\n",
    "soup.find('table').find_all('tr', class_='book')[0]"
   ]
  },
  {
   "cell_type": "code",
   "execution_count": 10,
   "id": "080bcc04-ae0b-40ad-8345-05ff365cabe0",
   "metadata": {},
   "outputs": [],
   "source": [
    "# In this code, I am using a for-loop to start the process of creading a Pandas dataframe.\n",
    "\n",
    "ISBN = []\n",
    "Title = []\n",
    "Author = []\n",
    "Language = []\n",
    "Pages = []\n",
    "Topic = []\n",
    "Price = []\n",
    "\n",
    "for book in soup.find('table').find_all('tr', class_='book'):\n",
    "    ISBN.append(book.find_all('td')[0].text)\n",
    "    Title.append(book.find_all('td')[1].text)\n",
    "    Author.append(book.find_all('td')[2].text)\n",
    "    Language.append(book.find_all('td')[3].text)\n",
    "    Pages.append(book.find_all('td')[4].text)\n",
    "    Topic.append(book.find_all('td')[5].text)\n",
    "    Price.append(book.find_all('td')[6].text)"
   ]
  },
  {
   "cell_type": "code",
   "execution_count": 12,
   "id": "0c11e3da-1b24-435a-b557-29988f09fc5a",
   "metadata": {},
   "outputs": [],
   "source": [
    "# The code below will take the data I collected from the code above and turn it into a Pandas dataframe.\n",
    "\n",
    "df = pd.DataFrame({\n",
    "    'ISBN': ISBN,\n",
    "    'Title': Title,\n",
    "    'Author': Author,\n",
    "    'Language': Language,\n",
    "    'Pages': Pages,\n",
    "    'Topic': Topic,\n",
    "    'Price': Price\n",
    "})"
   ]
  },
  {
   "cell_type": "code",
   "execution_count": 13,
   "id": "6be0d91e-22d0-48ba-8f55-2ba7d0a023cf",
   "metadata": {},
   "outputs": [
    {
     "name": "stdout",
     "output_type": "stream",
     "text": [
      "<class 'pandas.core.frame.DataFrame'>\n",
      "RangeIndex: 15 entries, 0 to 14\n",
      "Data columns (total 7 columns):\n",
      " #   Column    Non-Null Count  Dtype \n",
      "---  ------    --------------  ----- \n",
      " 0   ISBN      15 non-null     object\n",
      " 1   Title     15 non-null     object\n",
      " 2   Author    15 non-null     object\n",
      " 3   Language  15 non-null     object\n",
      " 4   Pages     15 non-null     object\n",
      " 5   Topic     15 non-null     object\n",
      " 6   Price     15 non-null     object\n",
      "dtypes: object(7)\n",
      "memory usage: 972.0+ bytes\n"
     ]
    }
   ],
   "source": [
    "df.info()"
   ]
  },
  {
   "cell_type": "code",
   "execution_count": 21,
   "id": "4a58d484-73d4-4fc5-bca5-8c6f23ce0d3c",
   "metadata": {},
   "outputs": [],
   "source": [
    "# The code below will turn the appropriate columns from \"object\" types intot the appropriate \"integer\" or \"float\"\n",
    "    # data types. Additionally, I removed the dollar sign from the Price column in order to turn the data in that\n",
    "    # column into a \"float\" data type.\n",
    "\n",
    "df['Pages'] = df['Pages'].astype('int64')\n",
    "df['Price'] = df['Price'].replace(r'[\\$,]', '', regex=True).astype(float)"
   ]
  },
  {
   "cell_type": "code",
   "execution_count": 20,
   "id": "a7e83a26-222b-4b12-850a-c1796fa1c141",
   "metadata": {},
   "outputs": [
    {
     "data": {
      "text/html": [
       "<div>\n",
       "<style scoped>\n",
       "    .dataframe tbody tr th:only-of-type {\n",
       "        vertical-align: middle;\n",
       "    }\n",
       "\n",
       "    .dataframe tbody tr th {\n",
       "        vertical-align: top;\n",
       "    }\n",
       "\n",
       "    .dataframe thead th {\n",
       "        text-align: right;\n",
       "    }\n",
       "</style>\n",
       "<table border=\"1\" class=\"dataframe\">\n",
       "  <thead>\n",
       "    <tr style=\"text-align: right;\">\n",
       "      <th></th>\n",
       "      <th>ISBN</th>\n",
       "      <th>Title</th>\n",
       "      <th>Author</th>\n",
       "      <th>Language</th>\n",
       "      <th>Pages</th>\n",
       "      <th>Topic</th>\n",
       "      <th>Price</th>\n",
       "    </tr>\n",
       "  </thead>\n",
       "  <tbody>\n",
       "    <tr>\n",
       "      <th>0</th>\n",
       "      <td>978-1234567890</td>\n",
       "      <td>Whiskers of Wisdom: Tales from Feline Philosop...</td>\n",
       "      <td>Penelope Wainwright</td>\n",
       "      <td>English</td>\n",
       "      <td>256</td>\n",
       "      <td>Cats</td>\n",
       "      <td>19.99</td>\n",
       "    </tr>\n",
       "    <tr>\n",
       "      <th>1</th>\n",
       "      <td>978-2345678901</td>\n",
       "      <td>Purrfectly Pawesome: A Cat's Life</td>\n",
       "      <td>Jasper Sterling</td>\n",
       "      <td>English</td>\n",
       "      <td>192</td>\n",
       "      <td>Cats</td>\n",
       "      <td>15.99</td>\n",
       "    </tr>\n",
       "    <tr>\n",
       "      <th>2</th>\n",
       "      <td>978-3456789012</td>\n",
       "      <td>Cat Tales: Adventures in Whiskerland</td>\n",
       "      <td>Penelope Wainwright</td>\n",
       "      <td>English</td>\n",
       "      <td>320</td>\n",
       "      <td>Cats</td>\n",
       "      <td>21.99</td>\n",
       "    </tr>\n",
       "    <tr>\n",
       "      <th>3</th>\n",
       "      <td>978-4567890123</td>\n",
       "      <td>The Enigmatic Paws: Mysteries of Meowville</td>\n",
       "      <td>Maximilian Thorne</td>\n",
       "      <td>English</td>\n",
       "      <td>288</td>\n",
       "      <td>Cats</td>\n",
       "      <td>17.99</td>\n",
       "    </tr>\n",
       "    <tr>\n",
       "      <th>4</th>\n",
       "      <td>978-5678901234</td>\n",
       "      <td>Cats in Wonderland</td>\n",
       "      <td>Isadora Harrington</td>\n",
       "      <td>English</td>\n",
       "      <td>224</td>\n",
       "      <td>Cats</td>\n",
       "      <td>16.99</td>\n",
       "    </tr>\n",
       "  </tbody>\n",
       "</table>\n",
       "</div>"
      ],
      "text/plain": [
       "             ISBN                                              Title  \\\n",
       "0  978-1234567890  Whiskers of Wisdom: Tales from Feline Philosop...   \n",
       "1  978-2345678901                  Purrfectly Pawesome: A Cat's Life   \n",
       "2  978-3456789012               Cat Tales: Adventures in Whiskerland   \n",
       "3  978-4567890123         The Enigmatic Paws: Mysteries of Meowville   \n",
       "4  978-5678901234                                 Cats in Wonderland   \n",
       "\n",
       "                Author Language  Pages Topic  Price  \n",
       "0  Penelope Wainwright  English    256  Cats  19.99  \n",
       "1      Jasper Sterling  English    192  Cats  15.99  \n",
       "2  Penelope Wainwright  English    320  Cats  21.99  \n",
       "3    Maximilian Thorne  English    288  Cats  17.99  \n",
       "4   Isadora Harrington  English    224  Cats  16.99  "
      ]
     },
     "execution_count": 20,
     "metadata": {},
     "output_type": "execute_result"
    }
   ],
   "source": [
    "df.head()"
   ]
  },
  {
   "cell_type": "code",
   "execution_count": 29,
   "id": "4438939f-9040-4179-82e1-7121ec18b87b",
   "metadata": {},
   "outputs": [
    {
     "data": {
      "text/plain": [
       "Author\n",
       "Penelope Wainwright    4\n",
       "Jasper Sterling        2\n",
       "Benjamin Barkley       2\n",
       "Maximilian Thorne      1\n",
       "Celeste Nightshade     1\n",
       "Isadora Harrington     1\n",
       "Seraphina Montague     1\n",
       "Sophie Shepherd        1\n",
       "Oliver Obedience       1\n",
       "Ruby Ruffington        1\n",
       "Name: count, dtype: int64"
      ]
     },
     "execution_count": 29,
     "metadata": {},
     "output_type": "execute_result"
    }
   ],
   "source": [
    "# Question 1: Which author has the most books listed at Bob's Bookstore?\n",
    "    # Penelope Wainwright has the most books listed at 4 books.\n",
    "\n",
    "df['Author'].value_counts()"
   ]
  },
  {
   "cell_type": "code",
   "execution_count": 30,
   "id": "b78c2cc5-3c1b-4ad9-9285-7db185ed944a",
   "metadata": {},
   "outputs": [
    {
     "data": {
      "text/html": [
       "<div>\n",
       "<style scoped>\n",
       "    .dataframe tbody tr th:only-of-type {\n",
       "        vertical-align: middle;\n",
       "    }\n",
       "\n",
       "    .dataframe tbody tr th {\n",
       "        vertical-align: top;\n",
       "    }\n",
       "\n",
       "    .dataframe thead th {\n",
       "        text-align: right;\n",
       "    }\n",
       "</style>\n",
       "<table border=\"1\" class=\"dataframe\">\n",
       "  <thead>\n",
       "    <tr style=\"text-align: right;\">\n",
       "      <th></th>\n",
       "      <th>ISBN</th>\n",
       "      <th>Title</th>\n",
       "      <th>Author</th>\n",
       "      <th>Language</th>\n",
       "      <th>Pages</th>\n",
       "      <th>Topic</th>\n",
       "      <th>Price</th>\n",
       "    </tr>\n",
       "  </thead>\n",
       "  <tbody>\n",
       "    <tr>\n",
       "      <th>0</th>\n",
       "      <td>978-1234567890</td>\n",
       "      <td>Whiskers of Wisdom: Tales from Feline Philosop...</td>\n",
       "      <td>Penelope Wainwright</td>\n",
       "      <td>English</td>\n",
       "      <td>256</td>\n",
       "      <td>Cats</td>\n",
       "      <td>19.99</td>\n",
       "    </tr>\n",
       "    <tr>\n",
       "      <th>2</th>\n",
       "      <td>978-3456789012</td>\n",
       "      <td>Cat Tales: Adventures in Whiskerland</td>\n",
       "      <td>Penelope Wainwright</td>\n",
       "      <td>English</td>\n",
       "      <td>320</td>\n",
       "      <td>Cats</td>\n",
       "      <td>21.99</td>\n",
       "    </tr>\n",
       "    <tr>\n",
       "      <th>5</th>\n",
       "      <td>978-6789012345</td>\n",
       "      <td>Whisker Wisdom: Life Lessons from Feline Sages</td>\n",
       "      <td>Penelope Wainwright</td>\n",
       "      <td>English</td>\n",
       "      <td>288</td>\n",
       "      <td>Cats</td>\n",
       "      <td>20.99</td>\n",
       "    </tr>\n",
       "    <tr>\n",
       "      <th>8</th>\n",
       "      <td>978-9012345678</td>\n",
       "      <td>The Cat's Whisker: A Feline Fantasy</td>\n",
       "      <td>Penelope Wainwright</td>\n",
       "      <td>English</td>\n",
       "      <td>208</td>\n",
       "      <td>Cats</td>\n",
       "      <td>16.99</td>\n",
       "    </tr>\n",
       "  </tbody>\n",
       "</table>\n",
       "</div>"
      ],
      "text/plain": [
       "             ISBN                                              Title  \\\n",
       "0  978-1234567890  Whiskers of Wisdom: Tales from Feline Philosop...   \n",
       "2  978-3456789012               Cat Tales: Adventures in Whiskerland   \n",
       "5  978-6789012345     Whisker Wisdom: Life Lessons from Feline Sages   \n",
       "8  978-9012345678                The Cat's Whisker: A Feline Fantasy   \n",
       "\n",
       "                Author Language  Pages Topic  Price  \n",
       "0  Penelope Wainwright  English    256  Cats  19.99  \n",
       "2  Penelope Wainwright  English    320  Cats  21.99  \n",
       "5  Penelope Wainwright  English    288  Cats  20.99  \n",
       "8  Penelope Wainwright  English    208  Cats  16.99  "
      ]
     },
     "execution_count": 30,
     "metadata": {},
     "output_type": "execute_result"
    }
   ],
   "source": [
    "df[df['Author'] == 'Penelope Wainwright']"
   ]
  },
  {
   "cell_type": "code",
   "execution_count": 25,
   "id": "607a794f-2da9-440f-bad2-73936c1a2095",
   "metadata": {},
   "outputs": [
    {
     "data": {
      "text/plain": [
       "Topic\n",
       "Cats    10\n",
       "Dogs     5\n",
       "Name: count, dtype: int64"
      ]
     },
     "execution_count": 25,
     "metadata": {},
     "output_type": "execute_result"
    }
   ],
   "source": [
    "# Question 2: Which is the most popular topic among books at Bob's Bookstore?\n",
    "    # Assuming the question is referring to what is the most common topic, the answer is \"Cats\" at 10 listings.\n",
    "    # Conversely, the topic \"Dogs\" only have 5 listings.\n",
    "\n",
    "df['Topic'].value_counts()"
   ]
  },
  {
   "cell_type": "code",
   "execution_count": 26,
   "id": "3d0d0257-1c3a-4714-b9e6-2f862bcf25d4",
   "metadata": {},
   "outputs": [
    {
     "data": {
      "text/plain": [
       "Topic\n",
       "Cats    17.79\n",
       "Dogs    26.59\n",
       "Name: Price, dtype: float64"
      ]
     },
     "execution_count": 26,
     "metadata": {},
     "output_type": "execute_result"
    }
   ],
   "source": [
    "# Question 3: Which topic of books is the most expensive, on average?\n",
    "    # The most expensive topic on average is \"Dogs\" at $26.59. \n",
    "    # Conversely, the least expensive topic is \"Cats\" at $17.79. \n",
    "\n",
    "df.groupby('Topic')['Price'].mean()"
   ]
  },
  {
   "cell_type": "code",
   "execution_count": 27,
   "id": "7480dae9-407c-47fc-a48b-798c2925f83b",
   "metadata": {},
   "outputs": [
    {
     "data": {
      "text/plain": [
       "Topic\n",
       "Cats    238.4\n",
       "Dogs    256.0\n",
       "Name: Pages, dtype: float64"
      ]
     },
     "execution_count": 27,
     "metadata": {},
     "output_type": "execute_result"
    }
   ],
   "source": [
    "# Question 4: Which topic of books has the most pages, on average?\n",
    "    # The topic with the most number of pages on average is \"Dogs\" at 256 pages. \n",
    "    # Conversely, the topic with the least number of pages on average is \"Cats\" at 238.4 pages.\n",
    "\n",
    "df.groupby('Topic')['Pages'].mean()"
   ]
  },
  {
   "cell_type": "markdown",
   "id": "1be95b89-22ce-41cd-bcca-b885854926a9",
   "metadata": {},
   "source": [
    "# Final analysis\n",
    "\n",
    "By looking over all the data above, and referring to the questions in the intro, a number of trends can be observed: \n",
    "1. The author with the most books listed--a total of 4 books--is Penelope Wainwright. These titles are \"Whiskers of Wisdom: Tales from Feline Philosophers\", \"Cat Tales: Adventures in Whiskerland\", \"Whisker Wisdom: Life Lessons from Feline Sages\", and \"The Cat's Whisker: A Feline Fantasy\".\n",
    "2. The most common book topic at the bookstore is \"Cats\" at 10 listings. The only other topic of \"Dogs\" has 5 listings.\n",
    "3. The most expensive topic on average is \"Dogs\" at $26.59. Conversely, the least expensive topic is \"Cats\" at $17.79.\n",
    "4. The topic with the most number of pages on average is \"Dogs\" at 256 pages. Conversely, the topic with the least number of pages on average is \"Cats\" at 238.4 pages.\n",
    "\n",
    "By reviewing the data above, it seems that the most common and affordable topic at Bob's Bookstore is \"Cats\", with books by Penelope Wainwright to be the most common as well. However, without sales information from Bob's Bookstore, it is hard to make management decisions regarding what types of books should be stocked. However, to have a simple dataset of what books are in stock as well as more specific data about each book, this dataset will suffice."
   ]
  }
 ],
 "metadata": {
  "kernelspec": {
   "display_name": "Python 3 (ipykernel)",
   "language": "python",
   "name": "python3"
  },
  "language_info": {
   "codemirror_mode": {
    "name": "ipython",
    "version": 3
   },
   "file_extension": ".py",
   "mimetype": "text/x-python",
   "name": "python",
   "nbconvert_exporter": "python",
   "pygments_lexer": "ipython3",
   "version": "3.13.2"
  }
 },
 "nbformat": 4,
 "nbformat_minor": 5
}
